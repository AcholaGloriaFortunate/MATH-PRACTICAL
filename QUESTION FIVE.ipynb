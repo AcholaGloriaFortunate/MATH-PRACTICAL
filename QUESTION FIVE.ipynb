{
 "cells": [
  {
   "cell_type": "code",
   "execution_count": 1,
   "metadata": {},
   "outputs": [],
   "source": [
    "import numpy as np"
   ]
  },
  {
   "cell_type": "code",
   "execution_count": 2,
   "metadata": {},
   "outputs": [],
   "source": [
    "#Assume  my system of equation is;\n",
    "#3x + y - z = 4\n",
    "#2x - y + 3z = -2\n",
    "#4x - 3y + 2z = 8 "
   ]
  },
  {
   "cell_type": "code",
   "execution_count": 3,
   "metadata": {},
   "outputs": [
    {
     "name": "stdout",
     "output_type": "stream",
     "text": [
      "The solution to the system of equations is: [ 1.35483871 -2.4516129  -2.38709677]\n"
     ]
    }
   ],
   "source": [
    "# Coefficient matrix\n",
    "A = np.array([[3, 1, -1],\n",
    "              [2, -1, 3],\n",
    "              [4, -3, 2]])\n",
    "\n",
    "B = np.array([4, -2, 8])\n",
    "\n",
    "# Solve the system of linear equations\n",
    "solution = np.linalg.solve(A, B)\n",
    "\n",
    "print(\"The solution to the system of equations is:\", solution)"
   ]
  }
 ],
 "metadata": {
  "kernelspec": {
   "display_name": "Python 3",
   "language": "python",
   "name": "python3"
  },
  "language_info": {
   "codemirror_mode": {
    "name": "ipython",
    "version": 3
   },
   "file_extension": ".py",
   "mimetype": "text/x-python",
   "name": "python",
   "nbconvert_exporter": "python",
   "pygments_lexer": "ipython3",
   "version": "3.11.4"
  }
 },
 "nbformat": 4,
 "nbformat_minor": 2
}
